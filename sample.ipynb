{
 "cells": [
  {
   "cell_type": "code",
   "execution_count": 1,
   "metadata": {},
   "outputs": [
    {
     "name": "stderr",
     "output_type": "stream",
     "text": [
      "/Users/mingikang/miniforge3/envs/MK/lib/python3.12/site-packages/tqdm/auto.py:21: TqdmWarning: IProgress not found. Please update jupyter and ipywidgets. See https://ipywidgets.readthedocs.io/en/stable/user_install.html\n",
      "  from .autonotebook import tqdm as notebook_tqdm\n"
     ]
    }
   ],
   "source": [
    "\n",
    "import os\n",
    "import sys\n",
    "from dotenv import load_dotenv\n",
    "import datetime \n",
    "\n",
    "from twilio.rest import Client\n",
    "\n",
    "from gemini.gemini import *\n",
    "from menu_scraping.processing import *\n",
    "from menu_scraping.menu_models import * \n",
    "\n",
    "\n",
    "def twilio_connection(): \n",
    "    load_dotenv() \n",
    "    \n",
    "    # Gathering Credentials\n",
    "    account_sid = os.getenv('TWILIO_ACCOUNT_SID')\n",
    "    auth_token = os.getenv('TWILIO_AUTH_TOKEN')\n",
    "    client = Client(account_sid, auth_token)\n",
    "    return client \n",
    "\n",
    "def send_message(message: str, sender='+18777194154', receiver='+18187952054'): \n",
    "    client = twilio_connection()\n",
    "     \n",
    "    message = client.messages \\\n",
    "                        .create(\n",
    "                            body = message, \n",
    "                            from_=sender, \n",
    "                            to=receiver\n",
    "                        )\n",
    "    if not message.sid: \n",
    "        return False\n",
    "    return message.sid"
   ]
  },
  {
   "cell_type": "code",
   "execution_count": 4,
   "metadata": {},
   "outputs": [
    {
     "name": "stdout",
     "output_type": "stream",
     "text": [
      "SM79c98c2c59bd8db4ec30ef2e0c098d11\n",
      "SMd1ec89ceb694ad95caf4c9ef85fc1152\n",
      "SM0720929950524e62dda6a2f840cb0434\n",
      "SMb0054f65e0809ef11c3ee1ed192d3af4\n",
      "SMc348648ae3452eb7693b5b763eef5ef7\n",
      "SM5f0c23a3decc00d533ea0f7833a8d14c\n",
      "SM26461c6a6d73a6f4ed09508b11ac1a44\n",
      "SM05eb1f41072932c306e04b0e085bc540\n",
      "SMf4ab9bc5ad053f13370a0f5a0a24f134\n",
      "SM8457dd84e25d7119253cf69b1abbf3ab\n",
      "SM1dc3cdb4212c787706326bac85b8401f\n",
      "SMaef803a1d5d2c34ca2cd44a9bb90a331\n",
      "SMf6ecd432bdf769ddf51647491efaaa17\n",
      "SM2259ab80c9f0b7db16192601df359de3\n",
      "SM14153df8f9bf6ef66ebf849f86eefb90\n",
      "SM694c07f39386b103f1bb91d3577fa4d6\n",
      "SM2165dfc432698e532a4466d57e006201\n",
      "SM741706c66d73a86582cbfcc2ff4e8b65\n",
      "SM9b457e0064c8cba1a7e0f2f69876b601\n",
      "SM1f8e56e8f01bb9e4b397ab53dd4713a9\n"
     ]
    }
   ],
   "source": [
    "client = twilio_connection()\n",
    "messages = client.messages.list(limit=20)\n",
    "for record in messages: print(record.sid)"
   ]
  },
  {
   "cell_type": "code",
   "execution_count": null,
   "metadata": {},
   "outputs": [],
   "source": []
  }
 ],
 "metadata": {
  "kernelspec": {
   "display_name": "MK",
   "language": "python",
   "name": "python3"
  },
  "language_info": {
   "codemirror_mode": {
    "name": "ipython",
    "version": 3
   },
   "file_extension": ".py",
   "mimetype": "text/x-python",
   "name": "python",
   "nbconvert_exporter": "python",
   "pygments_lexer": "ipython3",
   "version": "3.12.0"
  }
 },
 "nbformat": 4,
 "nbformat_minor": 2
}
